{
 "cells": [
  {
   "cell_type": "markdown",
   "id": "ab89c112-fa76-47b0-bfe0-a0be6a88dff4",
   "metadata": {},
   "source": [
    "🧠 Neural Network Classifier for Letters A, B, and C\n",
    "📌 Project Overview\n",
    "This project implements a simple feedforward neural network from scratch using only NumPy. The task is to classify small binary pixel images representing the letters A, B, and C.\n",
    "\n",
    "Each letter is represented as a 5×6 binary grid (total of 30 pixels, flattened into a vector). The model learns to recognize and classify these letters into three categories (A, B, or C).\n",
    "\n",
    "The project was built as part of Module 11: Neural Networks to demonstrate fundamental principles of:\n",
    "\n",
    "Matrix operations\n",
    "Weight initialization\n",
    "Activation functions\n",
    "Forward propagation\n",
    "Loss computation\n",
    "Backpropagation (manual gradients)\n",
    "Gradient descent updates\n",
    "📂 Dataset\n",
    "No external dataset is used. Instead, the binary patterns were created directly in the notebook:\n",
    "\n",
    "1 represents a pixel turned on\n",
    "0 represents a pixel turned off\n",
    "Example input (letter “A”):\n",
    "\n",
    "text\n",
    "\n",
    "011100\n",
    "100001\n",
    "111111\n",
    "100001\n",
    "100001\n",
    "These binary grids are flattened into one-dimensional 30-element vectors, ready for input into the network.\n",
    "\n",
    "The label vector is one-hot encoded:\n",
    "\n",
    "A → [1, 0, 0]\n",
    "B → [0, 1, 0]\n",
    "C → [0, 0, 1]\n",
    "🏗 Architecture of the Neural Network\n",
    "The neural network uses two layers:\n",
    "\n",
    "Input layer: 30 neurons (for 30 pixels)\n",
    "Hidden layer: 10 neurons (sigmoid activation)\n",
    "Output layer: 3 neurons (sigmoid activation, one per class A/B/C)\n",
    "⚙ Implementation Details\n",
    "Weight Initialization: Random small values using NumPy.\n",
    "Activation Function: Sigmoid for both hidden and output layers.\n",
    "Loss Function: Mean Squared Error (MSE).\n",
    "Backpropagation: Implemented manually:\n",
    "Compute error at the output layer.\n",
    "Propagate error backward into the hidden layer.\n",
    "Derive gradients for weights and biases.\n",
    "Gradient Descent: Update rule:\n",
    "θ\n",
    "=\n",
    "θ\n",
    "−\n",
    "η\n",
    "⋅\n",
    "∇\n",
    "L\n",
    "θ=θ−η⋅∇L\n",
    "where \n",
    "η\n",
    "η = learning rate.\n",
    "🔄 Training Process\n",
    "Epochs: 1000\n",
    "Learning rate: 0.1\n",
    "During training, the model’s loss consistently decreases, confirming successful weight updates.\n",
    "Loss Curve Example:\n",
    "\n",
    "Python\n",
    "\n",
    "plt.plot(losses)\n",
    "plt.xlabel(\"Epochs\")\n",
    "plt.ylabel(\"Loss\")\n",
    "plt.title(\"Training Loss Curve\")\n",
    "✅ Results\n",
    "After training:\n",
    "\n",
    "The model correctly predicts class A, B, or C for each clean input image.\n",
    "The model is robust enough to recognize slightly noisy versions of letters (flipped pixels).\n",
    "Prediction Example:\n",
    "\n",
    "text\n",
    "\n",
    "True: A → Predicted: A\n",
    "True: B → Predicted: B\n",
    "True: C → Predicted: C\n"
   ]
  },
  {
   "cell_type": "code",
   "execution_count": 1,
   "id": "91efe6e2-513d-46bf-b7d5-17d3c10b7591",
   "metadata": {},
   "outputs": [],
   "source": [
    "import numpy as np\n",
    "import matplotlib.pyplot as plt"
   ]
  },
  {
   "cell_type": "markdown",
   "id": "04a2140c-2138-4045-998e-d268e1c5ca7b",
   "metadata": {},
   "source": [
    "1. Create Dataset (Letters A, B, C as 5×6 grids)\n",
    "We’ll define patterns manually using 0 (off) and 1 (on). Each is 5 rows × 6 columns → flattened to 30 pixels."
   ]
  },
  {
   "cell_type": "code",
   "execution_count": 2,
   "id": "866c2278-32a7-4b61-9c30-8f10bfada82a",
   "metadata": {},
   "outputs": [],
   "source": [
    "# Define binary grids for A, B, and C\n",
    "A = np.array([\n",
    "    [0,1,1,1,0,0],\n",
    "    [1,0,0,0,1,0],\n",
    "    [1,1,1,1,1,0],\n",
    "    [1,0,0,0,1,0],\n",
    "    [1,0,0,0,1,0]\n",
    "])\n",
    "\n",
    "B = np.array([\n",
    "    [1,1,1,1,0,0],\n",
    "    [1,0,0,0,1,0],\n",
    "    [1,1,1,1,0,0],\n",
    "    [1,0,0,0,1,0],\n",
    "    [1,1,1,1,0,0]\n",
    "])\n",
    "\n",
    "C = np.array([\n",
    "    [0,1,1,1,1,0],\n",
    "    [1,0,0,0,0,0],\n",
    "    [1,0,0,0,0,0],\n",
    "    [1,0,0,0,0,0],\n",
    "    [0,1,1,1,1,0]\n",
    "])\n",
    "\n",
    "# Flatten patterns into 30-length vectors\n",
    "X = np.array([A.flatten(), B.flatten(), C.flatten()])\n",
    "\n",
    "# One-hot labels\n",
    "y = np.array([\n",
    "    [1,0,0], # A\n",
    "    [0,1,0], # B\n",
    "    [0,0,1]  # C\n",
    "])"
   ]
  },
  {
   "cell_type": "markdown",
   "id": "48fc9b0c-0c12-467e-94fe-fc55ecb7504c",
   "metadata": {},
   "source": [
    "Check dataset visualization:"
   ]
  },
  {
   "cell_type": "code",
   "execution_count": 3,
   "id": "bf47985a-dec2-40b8-b260-3cd8392b01cd",
   "metadata": {
    "scrolled": true
   },
   "outputs": [
    {
     "data": {
      "image/png": "[encoded data removed]",
      "text/plain": [
       "<Figure size 640x480 with 3 Axes>"
      ]
     },
     "metadata": {},
     "output_type": "display_data"
    }
   ],
   "source": [
    "letters = [A, B, C]\n",
    "names = ['A', 'B', 'C']\n",
    "\n",
    "for i in range(3):\n",
    "    plt.subplot(1,3,i+1)\n",
    "    plt.imshow(letters[i], cmap='gray_r')\n",
    "    plt.title(names[i])\n",
    "    plt.axis('off')\n",
    "plt.show()"
   ]
  },
  {
   "cell_type": "markdown",
   "id": "446266ff-0063-47df-9dcf-a94e2c5ccaa1",
   "metadata": {},
   "source": [
    "2. Neural Network Components\n",
    "We’ll use:\n",
    "\n",
    "Sigmoid activation\n",
    "Random small weights initialization\n",
    "Mean Squared Error loss (simpler for demo)"
   ]
  },
  {
   "cell_type": "code",
   "execution_count": 5,
   "id": "52cd84dd-7174-4fc5-bd0d-ad1c083ca4c2",
   "metadata": {},
   "outputs": [],
   "source": [
    "def sigmoid(z):\n",
    "    return 1 / (1 + np.exp(-z))\n",
    "\n",
    "def sigmoid_derivative(a):\n",
    "    return a * (1 - a)\n",
    "\n",
    "def initialize_weights(input_size, hidden_size, output_size):\n",
    "    W1 = np.random.randn(input_size, hidden_size) * 0.1\n",
    "    b1 = np.zeros((1, hidden_size))\n",
    "    W2 = np.random.randn(hidden_size, output_size) * 0.1\n",
    "    b2 = np.zeros((1, output_size))\n",
    "    return W1, b1, W2, b2"
   ]
  },
  {
   "cell_type": "markdown",
   "id": "b0ab9ba4-b8b5-41db-9565-27c0842d980e",
   "metadata": {},
   "source": [
    "3. Forward and Backward Propagation"
   ]
  },
  {
   "cell_type": "code",
   "execution_count": 6,
   "id": "c9b20c39-e67c-4828-8e7d-9b84af6354f8",
   "metadata": {},
   "outputs": [],
   "source": [
    "def forward(X, W1, b1, W2, b2):\n",
    "    z1 = np.dot(X, W1) + b1\n",
    "    a1 = sigmoid(z1)\n",
    "    z2 = np.dot(a1, W2) + b2\n",
    "    a2 = sigmoid(z2)\n",
    "    return z1, a1, z2, a2\n",
    "\n",
    "def compute_loss(y, y_hat):\n",
    "    return np.mean((y - y_hat) ** 2)\n",
    "\n",
    "def backward(X, y, z1, a1, z2, a2, W1, W2):\n",
    "    # Output layer error\n",
    "    d2 = (a2 - y) * sigmoid_derivative(a2) # shape (n,3)\n",
    "    dW2 = np.dot(a1.T, d2)\n",
    "    db2 = np.sum(d2, axis=0, keepdims=True)\n",
    "    \n",
    "    # Hidden layer error\n",
    "    d1 = np.dot(d2, W2.T) * sigmoid_derivative(a1) # (n,h)\n",
    "    dW1 = np.dot(X.T, d1)\n",
    "    db1 = np.sum(d1, axis=0, keepdims=True)\n",
    "    \n",
    "    return dW1, db1, dW2, db2"
   ]
  },
  {
   "cell_type": "markdown",
   "id": "1a9f7274-a781-4966-8eca-941303435b39",
   "metadata": {},
   "source": [
    "4. Training Loop"
   ]
  },
  {
   "cell_type": "code",
   "execution_count": 7,
   "id": "b0b579b7-89bf-48e3-8f88-34c15c05a0de",
   "metadata": {},
   "outputs": [
    {
     "name": "stdout",
     "output_type": "stream",
     "text": [
      "Epoch 0, Loss: 0.2491\n",
      "Epoch 100, Loss: 0.1929\n",
      "Epoch 200, Loss: 0.1095\n",
      "Epoch 300, Loss: 0.0464\n",
      "Epoch 400, Loss: 0.0219\n",
      "Epoch 500, Loss: 0.0130\n",
      "Epoch 600, Loss: 0.0089\n",
      "Epoch 700, Loss: 0.0066\n",
      "Epoch 800, Loss: 0.0052\n",
      "Epoch 900, Loss: 0.0043\n"
     ]
    }
   ],
   "source": [
    "# Hyperparameters\n",
    "input_size = 30\n",
    "hidden_size = 10\n",
    "output_size = 3\n",
    "epochs = 1000\n",
    "lr = 0.1\n",
    "\n",
    "# Initialize weights\n",
    "W1, b1, W2, b2 = initialize_weights(input_size, hidden_size, output_size)\n",
    "\n",
    "losses = []\n",
    "\n",
    "for epoch in range(epochs):\n",
    "    # Forward\n",
    "    z1, a1, z2, a2 = forward(X, W1, b1, W2, b2)\n",
    "    \n",
    "    # Loss\n",
    "    loss = compute_loss(y, a2)\n",
    "    losses.append(loss)\n",
    "    \n",
    "    # Backward\n",
    "    dW1, db1, dW2, db2 = backward(X, y, z1, a1, z2, a2, W1, W2)\n",
    "    \n",
    "    # Update\n",
    "    W1 -= lr * dW1\n",
    "    b1 -= lr * db1\n",
    "    W2 -= lr * dW2\n",
    "    b2 -= lr * db2\n",
    "    \n",
    "    if epoch % 100 == 0:\n",
    "        print(f\"Epoch {epoch}, Loss: {loss:.4f}\")"
   ]
  },
  {
   "cell_type": "markdown",
   "id": "5fdb5dd0-9b1c-43ed-b9ff-86afee3a66d5",
   "metadata": {},
   "source": [
    "5. Plot Training Loss"
   ]
  },
  {
   "cell_type": "code",
   "execution_count": 8,
   "id": "41a5c98d-8116-4244-8adc-28c51bef3a36",
   "metadata": {},
   "outputs": [
    {
     "data": {
      "image/png": "[encoded data removed]",
      "text/plain": [
       "<Figure size 640x480 with 1 Axes>"
      ]
     },
     "metadata": {},
     "output_type": "display_data"
    }
   ],
   "source": [
    "plt.plot(losses)\n",
    "plt.xlabel(\"Epochs\")\n",
    "plt.ylabel(\"Loss\")\n",
    "plt.title(\"Training Loss Curve\")\n",
    "plt.show()"
   ]
  },
  {
   "cell_type": "markdown",
   "id": "161ec8af-bf7a-4343-ae89-dd42cd6255af",
   "metadata": {},
   "source": [
    "6. Predictions"
   ]
  },
  {
   "cell_type": "code",
   "execution_count": 9,
   "id": "912c7cbf-8d33-43da-b841-3f9087411bf8",
   "metadata": {},
   "outputs": [
    {
     "name": "stdout",
     "output_type": "stream",
     "text": [
      "Predicted probabilities:\n",
      " [[0.92794347 0.05924187 0.04937321]\n",
      " [0.06236683 0.9237502  0.04666244]\n",
      " [0.05017443 0.05164654 0.93382888]]\n",
      "Predicted classes: [0 1 2]\n"
     ]
    }
   ],
   "source": [
    "_, _, _, preds = forward(X, W1, b1, W2, b2)\n",
    "print(\"Predicted probabilities:\\n\", preds)\n",
    "print(\"Predicted classes:\", np.argmax(preds, axis=1))"
   ]
  },
  {
   "cell_type": "markdown",
   "id": "512f9dd3-66e4-4128-8709-8c10c3cd7f71",
   "metadata": {},
   "source": [
    "Mapping back:"
   ]
  },
  {
   "cell_type": "code",
   "execution_count": 10,
   "id": "1c5ee033-bdfc-4764-8d38-a64d06112df4",
   "metadata": {},
   "outputs": [
    {
     "name": "stdout",
     "output_type": "stream",
     "text": [
      "True: A, Predicted: A\n",
      "True: B, Predicted: B\n",
      "True: C, Predicted: C\n"
     ]
    }
   ],
   "source": [
    "classes = ['A','B','C']\n",
    "for i,p in enumerate(np.argmax(preds,axis=1)):\n",
    "    print(f\"True: {names[i]}, Predicted: {classes[p]}\")"
   ]
  },
  {
   "cell_type": "markdown",
   "id": "d8254766-e0bf-41fb-915a-3d35bbad6ca0",
   "metadata": {},
   "source": [
    "7. Test on New Inputs (Optional)\n",
    "You can add noisy versions of letters and see if the network still recognizes them:"
   ]
  },
  {
   "cell_type": "code",
   "execution_count": null,
   "id": "847f5fab-d78e-45d4-80d5-217e606f325a",
   "metadata": {},
   "outputs": [],
   "source": []
  }
 ],
 "metadata": {
  "kernelspec": {
   "display_name": "Python [conda env:base] *",
   "language": "python",
   "name": "conda-base-py"
  },
  "language_info": {
   "codemirror_mode": {
    "name": "ipython",
    "version": 3
   },
   "file_extension": ".py",
   "mimetype": "text/x-python",
   "name": "python",
   "nbconvert_exporter": "python",
   "pygments_lexer": "ipython3",
   "version": "3.13.5"
  }
 },
 "nbformat": 4,
 "nbformat_minor": 5
}
